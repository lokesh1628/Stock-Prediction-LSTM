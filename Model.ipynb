{
 "cells": [
  {
   "cell_type": "code",
   "execution_count": 1,
   "metadata": {},
   "outputs": [],
   "source": [
    "import numpy as np\n",
    "import pandas as pd\n",
    "import tensorflow as tf\n",
    "from sklearn import preprocessing\n",
    "import matplotlib.pyplot as plt\n",
    "from sklearn.metrics import mean_absolute_error, mean_squared_error\n",
    "import os\n",
    "import random"
   ]
  },
  {
   "cell_type": "code",
   "execution_count": 2,
   "metadata": {},
   "outputs": [],
   "source": [
    "# go to input dir of stocks and use one txt file for processing\n",
    "\n",
    "os.chdir('Content/Stocks')"
   ]
  },
  {
   "cell_type": "code",
   "execution_count": 3,
   "metadata": {},
   "outputs": [
    {
     "data": {
      "text/plain": [
       "7195"
      ]
     },
     "execution_count": 3,
     "metadata": {},
     "output_type": "execute_result"
    }
   ],
   "source": [
    "files=os.listdir()\n",
    "len(files)"
   ]
  },
  {
   "cell_type": "code",
   "execution_count": 4,
   "metadata": {},
   "outputs": [],
   "source": [
    "data=random.sample([x for x in files if x.endswith('txt') and x.startswith('cms')and os.path.getsize(x)>400000],1)"
   ]
  },
  {
   "cell_type": "code",
   "execution_count": 5,
   "metadata": {},
   "outputs": [
    {
     "data": {
      "text/plain": [
       "['cms.us.txt']"
      ]
     },
     "execution_count": 5,
     "metadata": {},
     "output_type": "execute_result"
    }
   ],
   "source": [
    "data"
   ]
  },
  {
   "cell_type": "code",
   "execution_count": 6,
   "metadata": {},
   "outputs": [],
   "source": [
    "for i in data:\n",
    "    df = pd.read_csv(i)"
   ]
  },
  {
   "cell_type": "code",
   "execution_count": 7,
   "metadata": {},
   "outputs": [
    {
     "data": {
      "text/html": [
       "<div>\n",
       "<style scoped>\n",
       "    .dataframe tbody tr th:only-of-type {\n",
       "        vertical-align: middle;\n",
       "    }\n",
       "\n",
       "    .dataframe tbody tr th {\n",
       "        vertical-align: top;\n",
       "    }\n",
       "\n",
       "    .dataframe thead th {\n",
       "        text-align: right;\n",
       "    }\n",
       "</style>\n",
       "<table border=\"1\" class=\"dataframe\">\n",
       "  <thead>\n",
       "    <tr style=\"text-align: right;\">\n",
       "      <th></th>\n",
       "      <th>Open</th>\n",
       "      <th>High</th>\n",
       "      <th>Low</th>\n",
       "      <th>Close</th>\n",
       "      <th>Volume</th>\n",
       "      <th>OpenInt</th>\n",
       "    </tr>\n",
       "    <tr>\n",
       "      <th>Date</th>\n",
       "      <th></th>\n",
       "      <th></th>\n",
       "      <th></th>\n",
       "      <th></th>\n",
       "      <th></th>\n",
       "      <th></th>\n",
       "    </tr>\n",
       "  </thead>\n",
       "  <tbody>\n",
       "    <tr>\n",
       "      <th>1984-12-31</th>\n",
       "      <td>2.1121</td>\n",
       "      <td>2.2303</td>\n",
       "      <td>2.1121</td>\n",
       "      <td>2.2303</td>\n",
       "      <td>1003711</td>\n",
       "      <td>0</td>\n",
       "    </tr>\n",
       "    <tr>\n",
       "      <th>1985-01-02</th>\n",
       "      <td>2.2303</td>\n",
       "      <td>2.2303</td>\n",
       "      <td>2.1750</td>\n",
       "      <td>2.2303</td>\n",
       "      <td>126257</td>\n",
       "      <td>0</td>\n",
       "    </tr>\n",
       "    <tr>\n",
       "      <th>1985-01-03</th>\n",
       "      <td>2.2303</td>\n",
       "      <td>2.2303</td>\n",
       "      <td>2.1750</td>\n",
       "      <td>2.2303</td>\n",
       "      <td>62047</td>\n",
       "      <td>0</td>\n",
       "    </tr>\n",
       "    <tr>\n",
       "      <th>1985-01-04</th>\n",
       "      <td>2.2303</td>\n",
       "      <td>2.2303</td>\n",
       "      <td>2.1750</td>\n",
       "      <td>2.2303</td>\n",
       "      <td>76517</td>\n",
       "      <td>0</td>\n",
       "    </tr>\n",
       "    <tr>\n",
       "      <th>1985-01-07</th>\n",
       "      <td>2.1750</td>\n",
       "      <td>2.2303</td>\n",
       "      <td>2.1750</td>\n",
       "      <td>2.1750</td>\n",
       "      <td>96819</td>\n",
       "      <td>0</td>\n",
       "    </tr>\n",
       "  </tbody>\n",
       "</table>\n",
       "</div>"
      ],
      "text/plain": [
       "              Open    High     Low   Close   Volume  OpenInt\n",
       "Date                                                        \n",
       "1984-12-31  2.1121  2.2303  2.1121  2.2303  1003711        0\n",
       "1985-01-02  2.2303  2.2303  2.1750  2.2303   126257        0\n",
       "1985-01-03  2.2303  2.2303  2.1750  2.2303    62047        0\n",
       "1985-01-04  2.2303  2.2303  2.1750  2.2303    76517        0\n",
       "1985-01-07  2.1750  2.2303  2.1750  2.1750    96819        0"
      ]
     },
     "execution_count": 7,
     "metadata": {},
     "output_type": "execute_result"
    }
   ],
   "source": [
    "#set date column as index and drop from dataframe\n",
    "df=df.set_index(df['Date'])\n",
    "df.drop('Date',axis=1,inplace=True)\n",
    "df.head()"
   ]
  },
  {
   "cell_type": "code",
   "execution_count": 8,
   "metadata": {},
   "outputs": [
    {
     "data": {
      "text/plain": [
       "(8280, 6)"
      ]
     },
     "execution_count": 8,
     "metadata": {},
     "output_type": "execute_result"
    }
   ],
   "source": [
    "df.shape"
   ]
  },
  {
   "cell_type": "code",
   "execution_count": 9,
   "metadata": {},
   "outputs": [
    {
     "data": {
      "text/plain": [
       "(7230, 1)"
      ]
     },
     "execution_count": 9,
     "metadata": {},
     "output_type": "execute_result"
    }
   ],
   "source": [
    "window_size=30\n",
    "train_data=df.iloc[:(7200+window_size), 0:1]\n",
    "train_data.shape"
   ]
  },
  {
   "cell_type": "code",
   "execution_count": 10,
   "metadata": {},
   "outputs": [],
   "source": [
    "#preprocess data using Minmax sclaer\n",
    "scaler=preprocessing.MinMaxScaler()\n",
    "train_data_transform=scaler.fit_transform(np.array(train_data))"
   ]
  },
  {
   "cell_type": "code",
   "execution_count": 11,
   "metadata": {},
   "outputs": [],
   "source": [
    "x_train,y_train=[],[]\n",
    "for i in range(len(train_data_transform)-window_size):\n",
    "    x_train.append(train_data_transform[i:i+window_size])\n",
    "    y_train.append(train_data_transform[i+window_size])\n",
    "    "
   ]
  },
  {
   "cell_type": "code",
   "execution_count": 12,
   "metadata": {},
   "outputs": [],
   "source": [
    "x_train=np.array(x_train)"
   ]
  },
  {
   "cell_type": "code",
   "execution_count": 13,
   "metadata": {},
   "outputs": [
    {
     "data": {
      "text/plain": [
       "(7200, 1)"
      ]
     },
     "execution_count": 13,
     "metadata": {},
     "output_type": "execute_result"
    }
   ],
   "source": [
    "y_train=np.array(y_train)\n",
    "y_train.shape"
   ]
  },
  {
   "cell_type": "code",
   "execution_count": 14,
   "metadata": {},
   "outputs": [
    {
     "name": "stdout",
     "output_type": "stream",
     "text": [
      "Model: \"sequential\"\n",
      "_________________________________________________________________\n",
      "Layer (type)                 Output Shape              Param #   \n",
      "=================================================================\n",
      "lstm (LSTM)                  (None, 30, 100)           40800     \n",
      "_________________________________________________________________\n",
      "dropout (Dropout)            (None, 30, 100)           0         \n",
      "_________________________________________________________________\n",
      "lstm_1 (LSTM)                (None, 30, 50)            30200     \n",
      "_________________________________________________________________\n",
      "dropout_1 (Dropout)          (None, 30, 50)            0         \n",
      "_________________________________________________________________\n",
      "lstm_2 (LSTM)                (None, 50)                20200     \n",
      "_________________________________________________________________\n",
      "dropout_2 (Dropout)          (None, 50)                0         \n",
      "_________________________________________________________________\n",
      "dense (Dense)                (None, 1)                 51        \n",
      "=================================================================\n",
      "Total params: 91,251\n",
      "Trainable params: 91,251\n",
      "Non-trainable params: 0\n",
      "_________________________________________________________________\n"
     ]
    }
   ],
   "source": [
    "model=tf.keras.models.Sequential(\n",
    "    [tf.keras.layers.LSTM(100,return_sequences=True,input_shape=(x_train.shape[1], x_train.shape[2])),\n",
    "     tf.keras.layers.Dropout(0.3),\n",
    "     tf.keras.layers.LSTM(50,return_sequences=True),\n",
    "     tf.keras.layers.Dropout(0.2),\n",
    "     tf.keras.layers.LSTM(50),\n",
    "     tf.keras.layers.Dropout(0.2),\n",
    "     tf.keras.layers.Dense(1)\n",
    "    ])\n",
    "\n",
    "\n",
    "model.summary()\n",
    "model.compile(optimizer='adam', loss='mean_squared_error',metrics=['accuracy'])"
   ]
  },
  {
   "cell_type": "code",
   "execution_count": 15,
   "metadata": {},
   "outputs": [
    {
     "name": "stdout",
     "output_type": "stream",
     "text": [
      "Epoch 1/13\n",
      "180/180 [==============================] - 19s 56ms/step - loss: 0.0194 - accuracy: 9.9210e-05\n",
      "Epoch 2/13\n",
      "180/180 [==============================] - 10s 57ms/step - loss: 0.0023 - accuracy: 2.0718e-04\n",
      "Epoch 3/13\n",
      "180/180 [==============================] - 10s 56ms/step - loss: 0.0019 - accuracy: 1.2751e-05\n",
      "Epoch 4/13\n",
      "180/180 [==============================] - 10s 58ms/step - loss: 0.0016 - accuracy: 1.8516e-04\n",
      "Epoch 5/13\n",
      "180/180 [==============================] - 11s 59ms/step - loss: 0.0014 - accuracy: 4.2429e-05\n",
      "Epoch 6/13\n",
      "180/180 [==============================] - 10s 58ms/step - loss: 0.0013 - accuracy: 1.1754e-04\n",
      "Epoch 7/13\n",
      "180/180 [==============================] - 10s 58ms/step - loss: 0.0013 - accuracy: 9.1619e-05\n",
      "Epoch 8/13\n",
      "180/180 [==============================] - 10s 58ms/step - loss: 0.0011 - accuracy: 1.5174e-04\n",
      "Epoch 9/13\n",
      "180/180 [==============================] - 10s 57ms/step - loss: 0.0011 - accuracy: 1.4725e-04\n",
      "Epoch 10/13\n",
      "180/180 [==============================] - 10s 57ms/step - loss: 0.0011 - accuracy: 4.9868e-05\n",
      "Epoch 11/13\n",
      "180/180 [==============================] - 10s 58ms/step - loss: 9.5759e-04 - accuracy: 3.3118e-04\n",
      "Epoch 12/13\n",
      "180/180 [==============================] - 10s 58ms/step - loss: 9.0660e-04 - accuracy: 1.0237e-04\n",
      "Epoch 13/13\n",
      "180/180 [==============================] - 10s 57ms/step - loss: 8.2952e-04 - accuracy: 6.1242e-05\n"
     ]
    },
    {
     "data": {
      "text/plain": [
       "<tensorflow.python.keras.callbacks.History at 0x187f947d610>"
      ]
     },
     "execution_count": 15,
     "metadata": {},
     "output_type": "execute_result"
    }
   ],
   "source": [
    "model.fit(x_train, y_train, epochs=13, batch_size=40)"
   ]
  },
  {
   "cell_type": "code",
   "execution_count": 16,
   "metadata": {},
   "outputs": [],
   "source": [
    "model.save('stock_model.h5')"
   ]
  },
  {
   "cell_type": "code",
   "execution_count": 17,
   "metadata": {},
   "outputs": [],
   "source": [
    "train_data = df.iloc[ :int(7200)]\n",
    "test_data = df.iloc[int(7200): ]\n",
    "        \n",
    "        # combining the dataset and taking final test_data shape.\n",
    "data = pd.concat((train_data['Open'], test_data['Open']), axis=0)\n",
    "        # len(train_data) - window_size == 7242 - 10 == 7432.\n",
    "        # Hence, test_set starts from 7432 to take 7243 row as output.\n",
    "test_input_shape = data[len(train_data) - window_size: ].values\n",
    "test_input_shape = test_input_shape.reshape(-1,1)\n",
    "test_input_shape = scaler.transform(test_input_shape) #only transforming the test data.\n",
    "        \n",
    "X_test = []\n",
    "        \n",
    "for i in range(window_size, len(test_data)+window_size): \n",
    "    X_test.append(test_input_shape[i-window_size:i, 0])\n",
    "            \n",
    "X_test = np.array(X_test)"
   ]
  },
  {
   "cell_type": "code",
   "execution_count": 18,
   "metadata": {},
   "outputs": [
    {
     "data": {
      "text/plain": [
       "(1080, 30)"
      ]
     },
     "execution_count": 18,
     "metadata": {},
     "output_type": "execute_result"
    }
   ],
   "source": [
    "X_test.shape"
   ]
  },
  {
   "cell_type": "code",
   "execution_count": 19,
   "metadata": {},
   "outputs": [],
   "source": [
    " #to make values compatible with lstm\n",
    "X_test = X_test.reshape(X_test.shape[0], X_test.shape[1], 1)"
   ]
  },
  {
   "cell_type": "code",
   "execution_count": 26,
   "metadata": {},
   "outputs": [
    {
     "name": "stdout",
     "output_type": "stream",
     "text": [
      "[[[0.74845352]\n",
      "  [0.72330924]\n",
      "  [0.70569442]\n",
      "  ...\n",
      "  [0.76606834]\n",
      "  [0.77525567]\n",
      "  [0.77902041]]\n",
      "\n",
      " [[0.72330924]\n",
      "  [0.70569442]\n",
      "  [0.70697236]\n",
      "  ...\n",
      "  [0.77525567]\n",
      "  [0.77902041]\n",
      "  [0.77511752]]\n",
      "\n",
      " [[0.70569442]\n",
      "  [0.70697236]\n",
      "  [0.72479441]\n",
      "  ...\n",
      "  [0.77902041]\n",
      "  [0.77511752]\n",
      "  [0.78468478]]\n",
      "\n",
      " ...\n",
      "\n",
      " [[1.52827178]\n",
      "  [1.50937903]\n",
      "  [1.51728842]\n",
      "  ...\n",
      "  [1.58698783]\n",
      "  [1.59147788]\n",
      "  [1.58975094]]\n",
      "\n",
      " [[1.50937903]\n",
      "  [1.51728842]\n",
      "  [1.51932622]\n",
      "  ...\n",
      "  [1.59147788]\n",
      "  [1.58975094]\n",
      "  [1.6122012 ]]\n",
      "\n",
      " [[1.51728842]\n",
      "  [1.51932622]\n",
      "  [1.5179792 ]\n",
      "  ...\n",
      "  [1.58975094]\n",
      "  [1.6122012 ]\n",
      "  [1.61945436]]]\n"
     ]
    }
   ],
   "source": [
    "print(X_test)"
   ]
  },
  {
   "cell_type": "code",
   "execution_count": 20,
   "metadata": {},
   "outputs": [],
   "source": [
    "prediction = model.predict(X_test)\n",
    "\n",
    "prediction_inverse = scaler.inverse_transform(prediction)"
   ]
  },
  {
   "cell_type": "code",
   "execution_count": 25,
   "metadata": {},
   "outputs": [
    {
     "name": "stdout",
     "output_type": "stream",
     "text": [
      "[[0.751262  ]\n",
      " [0.75152063]\n",
      " [0.7529088 ]\n",
      " ...\n",
      " [1.4354168 ]\n",
      " [1.4391074 ]\n",
      " [1.444223  ]]\n"
     ]
    }
   ],
   "source": [
    "print(prediction)"
   ]
  },
  {
   "cell_type": "code",
   "execution_count": 31,
   "metadata": {},
   "outputs": [
    {
     "name": "stdout",
     "output_type": "stream",
     "text": [
      "open:2.2972\n",
      "high:2.3178\n",
      "low:2.2972\n",
      "close:2.2972\n",
      "Vol:26437\n",
      "OpenINT:0\n",
      "WARNING:tensorflow:Model was constructed with shape (None, 30, 1) for input KerasTensor(type_spec=TensorSpec(shape=(None, 30, 1), dtype=tf.float32, name='lstm_input'), name='lstm_input', description=\"created by layer 'lstm_input'\"), but it was called on an input with incompatible shape (None, 1, 1).\n"
     ]
    },
    {
     "data": {
      "text/plain": [
       "array([[0.36425796],\n",
       "       [0.36566803],\n",
       "       [0.36425796],\n",
       "       [0.36425796],\n",
       "       [1.1076378 ],\n",
       "       [0.22715473]], dtype=float32)"
      ]
     },
     "execution_count": 31,
     "metadata": {},
     "output_type": "execute_result"
    }
   ],
   "source": [
    "openn=float(input('open:'))\n",
    "high=float(input('high:'))\n",
    "low=float(input('low:'))\n",
    "close=float(input('close:'))\n",
    "vol=float(input('Vol:'))\n",
    "opnint=int(input('OpenINT:'))\n",
    "l=[openn,high,low,close,vol,opnint]\n",
    "l=np.array(l)\n",
    "l = l.reshape(-1,1, 1)\n",
    "inp=model.predict(l)\n",
    "inp"
   ]
  },
  {
   "cell_type": "code",
   "execution_count": 21,
   "metadata": {},
   "outputs": [
    {
     "data": {
      "text/plain": [
       "(1080, 1)"
      ]
     },
     "execution_count": 21,
     "metadata": {},
     "output_type": "execute_result"
    }
   ],
   "source": [
    "prediction_inverse.shape"
   ]
  },
  {
   "cell_type": "code",
   "execution_count": 22,
   "metadata": {},
   "outputs": [
    {
     "data": {
      "image/png": "[encoded data removed]",
      "text/plain": [
       "<Figure size 576x432 with 1 Axes>"
      ]
     },
     "metadata": {
      "needs_background": "light"
     },
     "output_type": "display_data"
    }
   ],
   "source": [
    "y_test = df.iloc[int(7200): ,0:1].values\n",
    "plt.figure(figsize=(8,6))\n",
    "plt.plot(prediction_inverse, color='blue', label='Predicted value')\n",
    "plt.plot(y_test, color ='red', label='actual value')\n",
    "plt.legend()\n",
    "plt.show()"
   ]
  },
  {
   "cell_type": "code",
   "execution_count": 23,
   "metadata": {},
   "outputs": [
    {
     "name": "stdout",
     "output_type": "stream",
     "text": [
      "Mean Absolute Error:  1.8149671508647778\n",
      "Mean Squared Error:  4.884006461154203\n"
     ]
    }
   ],
   "source": [
    "print('Mean Absolute Error: ', mean_absolute_error(y_test, prediction_inverse))\n",
    "print('Mean Squared Error: ', mean_squared_error(y_test, prediction_inverse))"
   ]
  },
  {
   "cell_type": "code",
   "execution_count": null,
   "metadata": {},
   "outputs": [],
   "source": []
  }
 ],
 "metadata": {
  "kernelspec": {
   "display_name": "Python 3",
   "language": "python",
   "name": "python3"
  },
  "language_info": {
   "codemirror_mode": {
    "name": "ipython",
    "version": 3
   },
   "file_extension": ".py",
   "mimetype": "text/x-python",
   "name": "python",
   "nbconvert_exporter": "python",
   "pygments_lexer": "ipython3",
   "version": "3.8.3"
  }
 },
 "nbformat": 4,
 "nbformat_minor": 5
}
